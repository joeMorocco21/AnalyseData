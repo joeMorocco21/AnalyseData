{
 "cells": [
  {
   "cell_type": "code",
   "execution_count": 1,
   "source": [
    "%load_ext autoreload\r\n",
    "%autoreload 2\r\n",
    "\r\n",
    "import pandas as pd\r\n",
    "import matplotlib.pyplot as plt\r\n",
    "from datetime import date\r\n",
    "import warnings\r\n",
    "warnings.filterwarnings('ignore')\r\n",
    "\r\n",
    "from touls import import_csv_RAW_data"
   ],
   "outputs": [],
   "metadata": {}
  },
  {
   "cell_type": "code",
   "execution_count": 2,
   "source": [
    "CLIENT_FILE = \"../data/RAW/clients.csv\"\r\n",
    "VENTES_FILE = \"../data/RAW/ventes.csv\"\r\n",
    "PRODUITS_FILE = \"../data/RAW/produits.csv\"\r\n",
    "\r\n",
    "clients_df, ventes_df, produits_df = import_csv_RAW_data(CLIENT_FILE,VENTES_FILE,PRODUITS_FILE)"
   ],
   "outputs": [],
   "metadata": {}
  },
  {
   "cell_type": "markdown",
   "source": [
    "# Check & clean data\r\n",
    "## client shoud be unique, not null"
   ],
   "metadata": {}
  },
  {
   "cell_type": "code",
   "execution_count": 3,
   "source": [
    "if clients_df.duplicated(subset = \"client_id\" ,keep=False).sum() > 0:\r\n",
    "        print (\"There is duplicated values on Id\")\r\n",
    "\r\n",
    "if clients_df.isnull().values.any() : \r\n",
    "    print(\"There is null values\")"
   ],
   "outputs": [],
   "metadata": {}
  },
  {
   "cell_type": "markdown",
   "source": [
    "## Product should have unique id, no null value, positive price"
   ],
   "metadata": {}
  },
  {
   "cell_type": "code",
   "execution_count": 4,
   "source": [
    "if produits_df.duplicated(subset = \"id_prod\" ,keep=False).sum() > 0:\r\n",
    "        print (\"There is duplicated values on Id\")\r\n",
    "\r\n",
    "if clients_df.isnull().values.any() : \r\n",
    "    print(\"There is null values\")\r\n",
    "if (produits_df['price'] < 0).sum() >= 0:\r\n",
    "    print (\"There is product with negative price: \\n\",produits_df[produits_df['price'] < 0])\r\n",
    "#produits_df = produits_df[produits_df['price'] > 0]"
   ],
   "outputs": [
    {
     "output_type": "stream",
     "name": "stdout",
     "text": [
      "There is product with negative price: \n",
      "     id_prod  price  categ\n",
      "731     T_0   -1.0      0\n"
     ]
    }
   ],
   "metadata": {}
  },
  {
   "cell_type": "markdown",
   "source": [
    "## Ventes should have valid date, no null value"
   ],
   "metadata": {}
  },
  {
   "cell_type": "code",
   "execution_count": 5,
   "source": [
    "ventes_df[\"date_match\"] = pd.to_datetime(ventes_df[\"date\"], format=\"%Y-%m-%d %H:%M:%S.%f\", errors = 'coerce')\r\n",
    "ventes_df_error = ventes_df[ventes_df['date_match'].isnull()]\r\n",
    "print(\"There is\",len(ventes_df_error) , \"value with unvalid date\\n\", ventes_df[ventes_df['date_match'].isnull()][[\"id_prod\",\"date\",\"session_id\",\"client_id\"]])"
   ],
   "outputs": [
    {
     "output_type": "stream",
     "name": "stdout",
     "text": [
      "There is 200 value with unvalid date\n",
      "        id_prod                             date session_id client_id\n",
      "1431       T_0  test_2021-03-01 02:30:02.237420        s_0      ct_1\n",
      "2365       T_0  test_2021-03-01 02:30:02.237446        s_0      ct_1\n",
      "2895       T_0  test_2021-03-01 02:30:02.237414        s_0      ct_1\n",
      "5955       T_0  test_2021-03-01 02:30:02.237441        s_0      ct_0\n",
      "7283       T_0  test_2021-03-01 02:30:02.237434        s_0      ct_1\n",
      "...        ...                              ...        ...       ...\n",
      "332594     T_0  test_2021-03-01 02:30:02.237445        s_0      ct_0\n",
      "332705     T_0  test_2021-03-01 02:30:02.237423        s_0      ct_1\n",
      "332730     T_0  test_2021-03-01 02:30:02.237421        s_0      ct_1\n",
      "333442     T_0  test_2021-03-01 02:30:02.237431        s_0      ct_1\n",
      "335279     T_0  test_2021-03-01 02:30:02.237430        s_0      ct_0\n",
      "\n",
      "[200 rows x 4 columns]\n"
     ]
    }
   ],
   "metadata": {}
  },
  {
   "cell_type": "markdown",
   "source": [
    "### 'product' : T_0, 'client' : ct_0, ct_1 and 'ventes' : test are only for test\r\n",
    "### they are dropped from the database"
   ],
   "metadata": {}
  },
  {
   "cell_type": "code",
   "execution_count": 6,
   "source": [
    "produits_df_clean = produits_df[produits_df['price'] >= 0]\r\n",
    "clients_df_clean = clients_df[(clients_df['client_id']!='ct_1') & (clients_df['client_id']!='ct_0')]\r\n",
    "clients_df_clean['age'] = date.today().year - clients_df_clean['birth']\r\n",
    "ventes_df_clean = ventes_df[~ventes_df['date_match'].isnull()]\r\n",
    "ventes_df_clean[\"date\"] =  pd.to_datetime(ventes_df_clean[\"date\"], format=\"%Y-%m-%d %H:%M:%S.%f\", errors = 'raise')\r\n",
    "ventes_df_clean = ventes_df_clean.drop(['date_match'],axis = 1)"
   ],
   "outputs": [],
   "metadata": {}
  },
  {
   "cell_type": "code",
   "execution_count": 7,
   "source": [
    "ventes_produits = ventes_df_clean.merge(produits_df_clean, left_on='id_prod', right_on='id_prod',how='outer')\r\n",
    "ventes_produits_erros = ventes_produits[(ventes_produits['price'].isnull().values) | (ventes_produits['date'].isnull().values)]\r\n",
    "prod_notExist = ventes_produits_erros[ventes_produits_erros['price'].isnull()]\r\n",
    "prod_notselled = ventes_produits_erros[ventes_produits_erros['date'].isnull()]\r\n",
    "print(\"There are \",len(prod_notExist),\" products not exicted in database \\n\", \"must add them: \\n\", prod_notExist)\r\n",
    "print(\"There are \",len(prod_notselled),\" products never selled \\n\", \"must promote them!: \\n\", prod_notselled)"
   ],
   "outputs": [
    {
     "output_type": "stream",
     "name": "stdout",
     "text": [
      "There are  103  products not exicted in database \n",
      " must add them: \n",
      "        id_prod                       date session_id client_id  price  categ\n",
      "307791  0_2245 2021-06-17 03:03:12.668129    s_49705    c_1533    NaN    NaN\n",
      "307792  0_2245 2021-06-16 05:53:01.627491    s_49323    c_7954    NaN    NaN\n",
      "307793  0_2245 2021-11-24 17:35:59.911427   s_124474    c_5120    NaN    NaN\n",
      "307794  0_2245 2022-02-28 18:08:49.875709   s_172304    c_4964    NaN    NaN\n",
      "307795  0_2245 2021-03-01 00:09:29.301897        s_3     c_580    NaN    NaN\n",
      "...        ...                        ...        ...       ...    ...    ...\n",
      "307889  0_2245 2021-04-06 19:59:19.462288    s_16936    c_4167    NaN    NaN\n",
      "307890  0_2245 2021-03-30 23:29:02.347672    s_13738    c_7790    NaN    NaN\n",
      "307891  0_2245 2021-12-03 14:14:40.444177   s_128815    c_6189    NaN    NaN\n",
      "307892  0_2245 2021-04-27 18:58:47.703374    s_26624    c_1595    NaN    NaN\n",
      "307893  0_2245 2021-05-01 03:35:03.146305    s_28235    c_5714    NaN    NaN\n",
      "\n",
      "[103 rows x 6 columns]\n",
      "There are  22  products never selled \n",
      " must promote them!: \n",
      "        id_prod date session_id client_id   price  categ\n",
      "336816  0_1016  NaT        NaN       NaN   35.06    0.0\n",
      "336817  0_1780  NaT        NaN       NaN    1.67    0.0\n",
      "336818  0_1062  NaT        NaN       NaN   20.08    0.0\n",
      "336819  0_1119  NaT        NaN       NaN    2.99    0.0\n",
      "336820  0_1014  NaT        NaN       NaN    1.15    0.0\n",
      "336821     1_0  NaT        NaN       NaN   31.82    1.0\n",
      "336822  0_1318  NaT        NaN       NaN   20.92    0.0\n",
      "336823  0_1800  NaT        NaN       NaN   22.05    0.0\n",
      "336824  0_1645  NaT        NaN       NaN    2.99    0.0\n",
      "336825   0_322  NaT        NaN       NaN    2.99    0.0\n",
      "336826  0_1620  NaT        NaN       NaN    0.80    0.0\n",
      "336827  0_1025  NaT        NaN       NaN   24.99    0.0\n",
      "336828    2_87  NaT        NaN       NaN  220.99    2.0\n",
      "336829   1_394  NaT        NaN       NaN   39.73    1.0\n",
      "336830    2_72  NaT        NaN       NaN  141.32    2.0\n",
      "336831   0_310  NaT        NaN       NaN    1.94    0.0\n",
      "336832  0_1624  NaT        NaN       NaN   24.50    0.0\n",
      "336833   0_525  NaT        NaN       NaN    2.99    0.0\n",
      "336834    2_86  NaT        NaN       NaN  132.36    2.0\n",
      "336835   0_299  NaT        NaN       NaN   22.99    0.0\n",
      "336836   0_510  NaT        NaN       NaN   23.66    0.0\n",
      "336837  0_2308  NaT        NaN       NaN   20.28    0.0\n"
     ]
    }
   ],
   "metadata": {}
  },
  {
   "cell_type": "code",
   "execution_count": 8,
   "source": [
    "ventes_clients = ventes_df_clean.merge(clients_df_clean, left_on='client_id', right_on='client_id',how='outer')\r\n",
    "ventes_clients_erros = ventes_clients[ventes_clients.isnull().values]\r\n",
    "ventes_clients_erros=ventes_clients_erros[~ventes_clients_erros.duplicated(keep='first')]\r\n",
    "print(\"There are \",len(ventes_clients_erros), \" clients who never buyed a product! \\n\",\"Must send them ads!\\n\", ventes_clients_erros[['client_id','sex','age']])"
   ],
   "outputs": [
    {
     "output_type": "stream",
     "name": "stdout",
     "text": [
      "There are  21  clients who never buyed a product! \n",
      " Must send them ads!\n",
      "        client_id sex  age\n",
      "336816    c_8253   f   20\n",
      "336817    c_3789   f   24\n",
      "336818    c_4406   f   23\n",
      "336819    c_2706   f   54\n",
      "336820    c_3443   m   62\n",
      "336821    c_4447   m   65\n",
      "336822    c_3017   f   29\n",
      "336823    c_4086   f   29\n",
      "336824    c_6930   m   17\n",
      "336825    c_4358   m   22\n",
      "336826    c_8381   f   56\n",
      "336827    c_1223   m   58\n",
      "336828    c_6862   f   19\n",
      "336829    c_5245   f   17\n",
      "336830    c_5223   m   18\n",
      "336831    c_6735   m   17\n",
      "336832     c_862   f   65\n",
      "336833    c_7584   f   61\n",
      "336834      c_90   m   20\n",
      "336835     c_587   m   28\n",
      "336836    c_3526   m   65\n"
     ]
    }
   ],
   "metadata": {}
  },
  {
   "cell_type": "markdown",
   "source": [
    "# Create a new merged database to use it for analysis"
   ],
   "metadata": {}
  },
  {
   "cell_type": "code",
   "execution_count": 9,
   "source": [
    "ventes_produits_clean = ventes_df_clean.merge(produits_df_clean, left_on='id_prod', right_on='id_prod',how='inner')\r\n",
    "ventes_produits_client_clean = ventes_produits_clean.merge(clients_df_clean, left_on='client_id', right_on='client_id',how='inner')\r\n",
    "clients_df_clean.to_pickle(\"../data/CURATED/clients.pkl\")\r\n",
    "produits_df_clean.to_pickle(\"../data/CURATED/produits.pkl\")\r\n",
    "ventes_df_clean.to_pickle(\"../data/CURATED/ventes.pkl\")\r\n",
    "ventes_produits_client_clean.to_pickle(\"../data/CURATED/merged.pkl\")"
   ],
   "outputs": [],
   "metadata": {}
  }
 ],
 "metadata": {
  "orig_nbformat": 4,
  "language_info": {
   "name": "python",
   "version": "3.8.8",
   "mimetype": "text/x-python",
   "codemirror_mode": {
    "name": "ipython",
    "version": 3
   },
   "pygments_lexer": "ipython3",
   "nbconvert_exporter": "python",
   "file_extension": ".py"
  },
  "kernelspec": {
   "name": "python3",
   "display_name": "Python 3.8.8 64-bit ('base': conda)"
  },
  "interpreter": {
   "hash": "c73c2fdeb9e7f66557d841f51cd8e0973f100084c424cad4b58bc70a5d194eb7"
  }
 },
 "nbformat": 4,
 "nbformat_minor": 2
}